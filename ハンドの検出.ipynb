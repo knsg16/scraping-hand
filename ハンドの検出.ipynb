{
  "nbformat": 4,
  "nbformat_minor": 0,
  "metadata": {
    "colab": {
      "provenance": [],
      "authorship_tag": "ABX9TyPsdiv4PlDhZAhKFbRVbUGZ",
      "include_colab_link": true
    },
    "kernelspec": {
      "name": "python3",
      "display_name": "Python 3"
    },
    "language_info": {
      "name": "python"
    }
  },
  "cells": [
    {
      "cell_type": "markdown",
      "metadata": {
        "id": "view-in-github",
        "colab_type": "text"
      },
      "source": [
        "<a href=\"https://colab.research.google.com/github/knsg16/scraping-hand/blob/main/%E3%83%8F%E3%83%B3%E3%83%89%E3%81%AE%E6%A4%9C%E5%87%BA.ipynb\" target=\"_parent\"><img src=\"https://colab.research.google.com/assets/colab-badge.svg\" alt=\"Open In Colab\"/></a>"
      ]
    },
    {
      "cell_type": "code",
      "execution_count": null,
      "metadata": {
        "id": "ZQhEsx4gEZ4M"
      },
      "outputs": [],
      "source": [
        "!pip install requests beautifulsoup4"
      ]
    },
    {
      "cell_type": "code",
      "source": [
        "import requests\n",
        "from bs4 import BeautifulSoup\n",
        "import time\n",
        "\n",
        "def scrape_page(url):\n",
        "    response = requests.get(url)\n",
        "    soup = BeautifulSoup(response.text, 'html.parser')\n",
        "\n",
        "    # 特定のspanタグを持つ要素を検索\n",
        "    span_elements = soup.find_all('span', class_='post-list-cat category-jrp')\n",
        "\n",
        "    for span in span_elements:\n",
        "        if span.get_text().strip() == 'Jリーグジャッジリプレイ':\n",
        "            related_url = span.find_parent('a')['href']\n",
        "\n",
        "            # 関連するページを取得して解析\n",
        "            related_response = requests.get(related_url)\n",
        "            related_soup = BeautifulSoup(related_response.text, 'html.parser')\n",
        "\n",
        "            # class=\"concept-box1\"を持つ要素の中に「ハンド」が含まれているか確認\n",
        "            for concept_box in related_soup.find_all('div', class_='concept-box1'):\n",
        "                if 'ハンド' in concept_box.get_text():\n",
        "                    print(f'The word \"ハンド\" found in {related_url}')\n",
        "                    break  # 「ハンド」を見つけたらループを終了\n",
        "\n",
        "def get_pagination_urls(base_url):\n",
        "    \"\"\"ページネーションのURLを取得する関数\"\"\"\n",
        "    response = requests.get(base_url)\n",
        "    soup = BeautifulSoup(response.text, 'html.parser')\n",
        "    pagination = soup.find('ul', class_='pagination ef')\n",
        "    urls = []\n",
        "\n",
        "    if pagination:\n",
        "        links = pagination.find_all('a', class_='inactive')\n",
        "        urls = [link.get('href') for link in links]\n",
        "\n",
        "    return urls\n",
        "\n",
        "# 基本URL\n",
        "base_url = ''\n",
        "\n",
        "# ページネーションURLのリストを取得\n",
        "pagination_urls = get_pagination_urls(base_url)\n",
        "\n",
        "# 最初のページをスクレイピング\n",
        "scrape_page(base_url)\n",
        "\n",
        "# 残りのページをスクレイピング\n",
        "for url in pagination_urls:\n",
        "    print(f'Scraping {url}')\n",
        "    scrape_page(url)\n",
        "    time.sleep(1)  # サーバーに負荷をかけないための遅延\n"
      ],
      "metadata": {
        "id": "nrNyOhr3Eg58"
      },
      "execution_count": null,
      "outputs": []
    }
  ]
}