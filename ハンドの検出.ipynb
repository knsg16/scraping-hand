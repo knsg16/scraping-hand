{
  "nbformat": 4,
  "nbformat_minor": 0,
  "metadata": {
    "colab": {
      "provenance": [],
      "authorship_tag": "ABX9TyPsdiv4PlDhZAhKFbRVbUGZ",
      "include_colab_link": true
    },
    "kernelspec": {
      "name": "python3",
      "display_name": "Python 3"
    },
    "language_info": {
      "name": "python"
    }
  },
  "cells": [
    {
      "cell_type": "markdown",
      "metadata": {
        "id": "view-in-github",
        "colab_type": "text"
      },
      "source": [
        "<a href=\"https://colab.research.google.com/github/knsg16/scraping-hand/blob/main/%E3%83%8F%E3%83%B3%E3%83%89%E3%81%AE%E6%A4%9C%E5%87%BA.ipynb\" target=\"_parent\"><img src=\"https://colab.research.google.com/assets/colab-badge.svg\" alt=\"Open In Colab\"/></a>"
      ]
    },
    {
      "cell_type": "code",
      "execution_count": null,
      "metadata": {
        "colab": {
          "base_uri": "https://localhost:8080/"
        },
        "id": "ZQhEsx4gEZ4M",
        "outputId": "19898eb6-e703-4bfa-869f-041041f1773b"
      },
      "outputs": [
        {
          "output_type": "stream",
          "name": "stdout",
          "text": [
            "Requirement already satisfied: gspread in /usr/local/lib/python3.10/dist-packages (3.4.2)\n",
            "Requirement already satisfied: requests in /usr/local/lib/python3.10/dist-packages (2.31.0)\n",
            "Requirement already satisfied: beautifulsoup4 in /usr/local/lib/python3.10/dist-packages (4.11.2)\n",
            "Requirement already satisfied: google-auth in /usr/local/lib/python3.10/dist-packages (from gspread) (2.17.3)\n",
            "Requirement already satisfied: charset-normalizer<4,>=2 in /usr/local/lib/python3.10/dist-packages (from requests) (3.3.2)\n",
            "Requirement already satisfied: idna<4,>=2.5 in /usr/local/lib/python3.10/dist-packages (from requests) (3.6)\n",
            "Requirement already satisfied: urllib3<3,>=1.21.1 in /usr/local/lib/python3.10/dist-packages (from requests) (2.0.7)\n",
            "Requirement already satisfied: certifi>=2017.4.17 in /usr/local/lib/python3.10/dist-packages (from requests) (2023.11.17)\n",
            "Requirement already satisfied: soupsieve>1.2 in /usr/local/lib/python3.10/dist-packages (from beautifulsoup4) (2.5)\n",
            "Requirement already satisfied: cachetools<6.0,>=2.0.0 in /usr/local/lib/python3.10/dist-packages (from google-auth->gspread) (5.3.2)\n",
            "Requirement already satisfied: pyasn1-modules>=0.2.1 in /usr/local/lib/python3.10/dist-packages (from google-auth->gspread) (0.3.0)\n",
            "Requirement already satisfied: six>=1.9.0 in /usr/local/lib/python3.10/dist-packages (from google-auth->gspread) (1.16.0)\n",
            "Requirement already satisfied: rsa<5,>=3.1.4 in /usr/local/lib/python3.10/dist-packages (from google-auth->gspread) (4.9)\n",
            "Requirement already satisfied: pyasn1<0.6.0,>=0.4.6 in /usr/local/lib/python3.10/dist-packages (from pyasn1-modules>=0.2.1->google-auth->gspread) (0.5.1)\n"
          ]
        }
      ],
      "source": [
        "!pip install requests beautifulsoup4"
      ]
    },
    {
      "cell_type": "code",
      "source": [
        "import requests\n",
        "from bs4 import BeautifulSoup\n",
        "import time\n",
        "\n",
        "def scrape_page(url):\n",
        "    response = requests.get(url)\n",
        "    soup = BeautifulSoup(response.text, 'html.parser')\n",
        "\n",
        "    # 特定のspanタグを持つ要素を検索\n",
        "    span_elements = soup.find_all('span', class_='post-list-cat category-jrp')\n",
        "\n",
        "    for span in span_elements:\n",
        "        if span.get_text().strip() == 'Jリーグジャッジリプレイ':\n",
        "            related_url = span.find_parent('a')['href']\n",
        "\n",
        "            # 関連するページを取得して解析\n",
        "            related_response = requests.get(related_url)\n",
        "            related_soup = BeautifulSoup(related_response.text, 'html.parser')\n",
        "\n",
        "            # class=\"concept-box1\"を持つ要素の中に「ハンド」が含まれているか確認\n",
        "            for concept_box in related_soup.find_all('div', class_='concept-box1'):\n",
        "                if 'ハンド' in concept_box.get_text():\n",
        "                    print(f'The word \"ハンド\" found in {related_url}')\n",
        "                    break  # 「ハンド」を見つけたらループを終了\n",
        "\n",
        "def get_pagination_urls(base_url):\n",
        "    \"\"\"ページネーションのURLを取得する関数\"\"\"\n",
        "    response = requests.get(base_url)\n",
        "    soup = BeautifulSoup(response.text, 'html.parser')\n",
        "    pagination = soup.find('ul', class_='pagination ef')\n",
        "    urls = []\n",
        "\n",
        "    if pagination:\n",
        "        links = pagination.find_all('a', class_='inactive')\n",
        "        urls = [link.get('href') for link in links]\n",
        "\n",
        "    return urls\n",
        "\n",
        "# 基本URL\n",
        "base_url = ''\n",
        "\n",
        "# ページネーションURLのリストを取得\n",
        "pagination_urls = get_pagination_urls(base_url)\n",
        "\n",
        "# 最初のページをスクレイピング\n",
        "scrape_page(base_url)\n",
        "\n",
        "# 残りのページをスクレイピング\n",
        "for url in pagination_urls:\n",
        "    print(f'Scraping {url}')\n",
        "    scrape_page(url)\n",
        "    time.sleep(1)  # サーバーに負荷をかけないための遅延\n"
      ],
      "metadata": {
        "colab": {
          "base_uri": "https://localhost:8080/"
        },
        "id": "nrNyOhr3Eg58",
        "outputId": "65d87602-ca29-4676-dddf-561e18b29b38"
      },
      "execution_count": null,
      "outputs": [
        {
          "output_type": "stream",
          "name": "stdout",
          "text": [
            "The word \"ハンド\" found in https://tarutablog.com/jrp-2023-25/\n",
            "The word \"ハンド\" found in https://tarutablog.com/jrp-2023-23/\n",
            "Scraping https://tarutablog.com/category/reysol/zakki/jrp/page/2/\n",
            "The word \"ハンド\" found in https://tarutablog.com/jrp-2023-21/\n",
            "The word \"ハンド\" found in https://tarutablog.com/jrp-2023-18/\n",
            "The word \"ハンド\" found in https://tarutablog.com/jrp-2023-16/\n",
            "The word \"ハンド\" found in https://tarutablog.com/jrp-2023-14/\n",
            "The word \"ハンド\" found in https://tarutablog.com/jrp-2023-13/\n",
            "The word \"ハンド\" found in https://tarutablog.com/jrp-2023-12/\n",
            "Scraping https://tarutablog.com/category/reysol/zakki/jrp/page/3/\n",
            "The word \"ハンド\" found in https://tarutablog.com/jrp-2023-09/\n",
            "The word \"ハンド\" found in https://tarutablog.com/jrp-2023-08/\n",
            "The word \"ハンド\" found in https://tarutablog.com/jrp-2023-06/\n",
            "The word \"ハンド\" found in https://tarutablog.com/jrp-2023-02/\n",
            "Scraping https://tarutablog.com/category/reysol/zakki/jrp/page/4/\n",
            "The word \"ハンド\" found in https://tarutablog.com/jrp-2022-29/\n",
            "The word \"ハンド\" found in https://tarutablog.com/jrp-2022-27/\n",
            "The word \"ハンド\" found in https://tarutablog.com/jrp-2022-26/\n",
            "The word \"ハンド\" found in https://tarutablog.com/jrp-2022-25/\n",
            "The word \"ハンド\" found in https://tarutablog.com/jrp-2022-24/\n",
            "The word \"ハンド\" found in https://tarutablog.com/jrp-2022-23/\n",
            "Scraping https://tarutablog.com/category/reysol/zakki/jrp/page/5/\n",
            "The word \"ハンド\" found in https://tarutablog.com/jrp-2022-22/\n",
            "The word \"ハンド\" found in https://tarutablog.com/jrp-2022-21/\n",
            "The word \"ハンド\" found in https://tarutablog.com/jrp-2022-20/\n",
            "The word \"ハンド\" found in https://tarutablog.com/jrp-2022-17/\n",
            "The word \"ハンド\" found in https://tarutablog.com/jrp-2022-16/\n",
            "The word \"ハンド\" found in https://tarutablog.com/jrp-2022-15/\n",
            "The word \"ハンド\" found in https://tarutablog.com/jrp-2022-14/\n"
          ]
        }
      ]
    }
  ]
}